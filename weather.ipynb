{
 "cells": [
  {
   "cell_type": "code",
   "execution_count": 1,
   "metadata": {},
   "outputs": [],
   "source": [
    "%matplotlib inline"
   ]
  },
  {
   "cell_type": "code",
   "execution_count": 2,
   "metadata": {},
   "outputs": [],
   "source": [
    "weather = pd.read_csv(\"./data/weather.csv\")"
   ]
  },
  {
   "cell_type": "code",
   "execution_count": 3,
   "metadata": {},
   "outputs": [],
   "source": [
    "# date : datetime으로 형변환\n",
    "weather['date'] = pd.to_datetime(weather['date'])"
   ]
  },
  {
   "cell_type": "code",
   "execution_count": 4,
   "metadata": {},
   "outputs": [],
   "source": [
    "# codesum의 \" \" 은 moderate이므로 'MD'를 넣어준다\n",
    "weather['codesum'].replace(\" \",'MD',inplace=True)"
   ]
  },
  {
   "cell_type": "code",
   "execution_count": 5,
   "metadata": {},
   "outputs": [],
   "source": [
    "# imputation\n",
    "for i in weather.columns:\n",
    "    weather[i] = weather[i].replace('-', np.nan)\n",
    "    weather[i] = weather[i].replace(' ', np.nan)\n",
    "    weather[i] = weather[i].replace('M', np.nan)"
   ]
  },
  {
   "cell_type": "code",
   "execution_count": 6,
   "metadata": {},
   "outputs": [],
   "source": [
    "weather['snowfall'] = weather['snowfall'].replace('T', 0.05)\n",
    "weather['snowfall'] = weather['snowfall'].replace('  T', 0.05)\n",
    "weather['preciptotal'] = weather['preciptotal'].replace('  T', 0.005)"
   ]
  },
  {
   "cell_type": "code",
   "execution_count": 15,
   "metadata": {},
   "outputs": [],
   "source": [
    "# column 전체 형변환\n",
    "weather[\"tmax\"] = weather[\"tmax\"].astype(\"float\")\n",
    "weather[\"tmin\"] = weather[\"tmin\"].astype(\"float\")\n",
    "weather[\"tavg\"] = weather[\"tavg\"].astype(\"float\")\n",
    "weather[\"depart\"] = weather[\"depart\"].astype(\"float\")\n",
    "weather[\"dewpoint\"] = weather[\"dewpoint\"].astype(\"float\")\n",
    "weather[\"wetbulb\"] = weather[\"wetbulb\"].astype(\"float\")\n",
    "weather[\"heat\"] = weather[\"heat\"].astype(\"float\")\n",
    "weather[\"cool\"] = weather[\"cool\"].astype(\"float\")\n",
    "weather['preciptotal'] = weather[\"preciptotal\"].astype(\"float\")\n",
    "weather['snowfall'] = weather[\"snowfall\"].astype(\"float\")\n",
    "weather[\"stnpressure\"] = weather[\"stnpressure\"].astype(\"float\")\n",
    "weather[\"sealevel\"] = weather[\"sealevel\"].astype(\"float\")\n",
    "weather[\"resultspeed\"] = weather[\"resultspeed\"].astype(\"float\")\n",
    "weather[\"resultdir\"] = weather[\"resultdir\"].astype(\"float\")\n",
    "weather[\"avgspeed\"] = weather[\"avgspeed\"].astype(\"float\")"
   ]
  },
  {
   "cell_type": "code",
   "execution_count": 8,
   "metadata": {},
   "outputs": [
    {
     "data": {
      "text/html": [
       "<div>\n",
       "<style scoped>\n",
       "    .dataframe tbody tr th:only-of-type {\n",
       "        vertical-align: middle;\n",
       "    }\n",
       "\n",
       "    .dataframe tbody tr th {\n",
       "        vertical-align: top;\n",
       "    }\n",
       "\n",
       "    .dataframe thead th {\n",
       "        text-align: right;\n",
       "    }\n",
       "</style>\n",
       "<table border=\"1\" class=\"dataframe\">\n",
       "  <thead>\n",
       "    <tr style=\"text-align: right;\">\n",
       "      <th></th>\n",
       "      <th>station_nbr</th>\n",
       "      <th>date</th>\n",
       "      <th>tmax</th>\n",
       "      <th>tmin</th>\n",
       "      <th>tavg</th>\n",
       "      <th>depart</th>\n",
       "      <th>dewpoint</th>\n",
       "      <th>wetbulb</th>\n",
       "      <th>heat</th>\n",
       "      <th>cool</th>\n",
       "      <th>sunrise</th>\n",
       "      <th>sunset</th>\n",
       "      <th>codesum</th>\n",
       "      <th>snowfall</th>\n",
       "      <th>preciptotal</th>\n",
       "      <th>stnpressure</th>\n",
       "      <th>sealevel</th>\n",
       "      <th>resultspeed</th>\n",
       "      <th>resultdir</th>\n",
       "      <th>avgspeed</th>\n",
       "    </tr>\n",
       "  </thead>\n",
       "  <tbody>\n",
       "    <tr>\n",
       "      <th>20512</th>\n",
       "      <td>16</td>\n",
       "      <td>2014-10-31</td>\n",
       "      <td>53.0</td>\n",
       "      <td>34.0</td>\n",
       "      <td>44.0</td>\n",
       "      <td>NaN</td>\n",
       "      <td>35.0</td>\n",
       "      <td>41.0</td>\n",
       "      <td>21.0</td>\n",
       "      <td>0.0</td>\n",
       "      <td>NaN</td>\n",
       "      <td>NaN</td>\n",
       "      <td>MD</td>\n",
       "      <td>NaN</td>\n",
       "      <td>0.00</td>\n",
       "      <td>29.90</td>\n",
       "      <td>29.99</td>\n",
       "      <td>4.5</td>\n",
       "      <td>3.0</td>\n",
       "      <td>5.3</td>\n",
       "    </tr>\n",
       "    <tr>\n",
       "      <th>20513</th>\n",
       "      <td>17</td>\n",
       "      <td>2014-10-31</td>\n",
       "      <td>59.0</td>\n",
       "      <td>34.0</td>\n",
       "      <td>47.0</td>\n",
       "      <td>NaN</td>\n",
       "      <td>32.0</td>\n",
       "      <td>41.0</td>\n",
       "      <td>18.0</td>\n",
       "      <td>0.0</td>\n",
       "      <td>NaN</td>\n",
       "      <td>NaN</td>\n",
       "      <td>RA</td>\n",
       "      <td>0.0</td>\n",
       "      <td>0.00</td>\n",
       "      <td>29.72</td>\n",
       "      <td>30.39</td>\n",
       "      <td>9.2</td>\n",
       "      <td>1.0</td>\n",
       "      <td>9.3</td>\n",
       "    </tr>\n",
       "    <tr>\n",
       "      <th>20514</th>\n",
       "      <td>18</td>\n",
       "      <td>2014-10-31</td>\n",
       "      <td>67.0</td>\n",
       "      <td>49.0</td>\n",
       "      <td>58.0</td>\n",
       "      <td>-4.0</td>\n",
       "      <td>40.0</td>\n",
       "      <td>50.0</td>\n",
       "      <td>7.0</td>\n",
       "      <td>0.0</td>\n",
       "      <td>0644</td>\n",
       "      <td>1738</td>\n",
       "      <td>MD</td>\n",
       "      <td>0.0</td>\n",
       "      <td>0.00</td>\n",
       "      <td>29.78</td>\n",
       "      <td>30.28</td>\n",
       "      <td>10.6</td>\n",
       "      <td>36.0</td>\n",
       "      <td>11.2</td>\n",
       "    </tr>\n",
       "    <tr>\n",
       "      <th>20515</th>\n",
       "      <td>19</td>\n",
       "      <td>2014-10-31</td>\n",
       "      <td>45.0</td>\n",
       "      <td>33.0</td>\n",
       "      <td>39.0</td>\n",
       "      <td>-6.0</td>\n",
       "      <td>24.0</td>\n",
       "      <td>32.0</td>\n",
       "      <td>26.0</td>\n",
       "      <td>0.0</td>\n",
       "      <td>0624</td>\n",
       "      <td>1646</td>\n",
       "      <td>RA SN</td>\n",
       "      <td>0.1</td>\n",
       "      <td>0.02</td>\n",
       "      <td>29.51</td>\n",
       "      <td>30.24</td>\n",
       "      <td>20.4</td>\n",
       "      <td>34.0</td>\n",
       "      <td>20.9</td>\n",
       "    </tr>\n",
       "    <tr>\n",
       "      <th>20516</th>\n",
       "      <td>20</td>\n",
       "      <td>2014-10-31</td>\n",
       "      <td>68.0</td>\n",
       "      <td>50.0</td>\n",
       "      <td>59.0</td>\n",
       "      <td>NaN</td>\n",
       "      <td>39.0</td>\n",
       "      <td>50.0</td>\n",
       "      <td>6.0</td>\n",
       "      <td>0.0</td>\n",
       "      <td>NaN</td>\n",
       "      <td>NaN</td>\n",
       "      <td>MD</td>\n",
       "      <td>0.0</td>\n",
       "      <td>0.00</td>\n",
       "      <td>29.57</td>\n",
       "      <td>30.27</td>\n",
       "      <td>10.5</td>\n",
       "      <td>36.0</td>\n",
       "      <td>11.2</td>\n",
       "    </tr>\n",
       "  </tbody>\n",
       "</table>\n",
       "</div>"
      ],
      "text/plain": [
       "       station_nbr       date  tmax  tmin  tavg  depart  dewpoint  wetbulb  \\\n",
       "20512           16 2014-10-31  53.0  34.0  44.0     NaN      35.0     41.0   \n",
       "20513           17 2014-10-31  59.0  34.0  47.0     NaN      32.0     41.0   \n",
       "20514           18 2014-10-31  67.0  49.0  58.0    -4.0      40.0     50.0   \n",
       "20515           19 2014-10-31  45.0  33.0  39.0    -6.0      24.0     32.0   \n",
       "20516           20 2014-10-31  68.0  50.0  59.0     NaN      39.0     50.0   \n",
       "\n",
       "       heat  cool sunrise sunset codesum snowfall preciptotal  stnpressure  \\\n",
       "20512  21.0   0.0     NaN    NaN      MD      NaN        0.00        29.90   \n",
       "20513  18.0   0.0     NaN    NaN      RA      0.0        0.00        29.72   \n",
       "20514   7.0   0.0    0644   1738      MD      0.0        0.00        29.78   \n",
       "20515  26.0   0.0    0624   1646   RA SN      0.1        0.02        29.51   \n",
       "20516   6.0   0.0     NaN    NaN      MD      0.0        0.00        29.57   \n",
       "\n",
       "       sealevel  resultspeed  resultdir  avgspeed  \n",
       "20512     29.99          4.5        3.0       5.3  \n",
       "20513     30.39          9.2        1.0       9.3  \n",
       "20514     30.28         10.6       36.0      11.2  \n",
       "20515     30.24         20.4       34.0      20.9  \n",
       "20516     30.27         10.5       36.0      11.2  "
      ]
     },
     "execution_count": 8,
     "metadata": {},
     "output_type": "execute_result"
    }
   ],
   "source": [
    "weather.tail()"
   ]
  },
  {
   "cell_type": "code",
   "execution_count": 176,
   "metadata": {},
   "outputs": [],
   "source": [
    "# weather와 key merge : station별 store별 날씨\n",
    "df = key.merge(wth)"
   ]
  },
  {
   "cell_type": "code",
   "execution_count": 19,
   "metadata": {},
   "outputs": [],
   "source": [
    "year = [pd.to_datetime(weather[\"date\"].values[i], format=\"%y%m%d\", errors='ignore').year for i in range(len(weather))]\n",
    "weather['year'] = year"
   ]
  },
  {
   "cell_type": "code",
   "execution_count": 20,
   "metadata": {},
   "outputs": [],
   "source": [
    "month = [pd.to_datetime(weather[\"date\"].values[i], format=\"%y%m%d\", errors='ignore').month for i in range(len(weather))]\n",
    "weather['month'] = month"
   ]
  },
  {
   "cell_type": "code",
   "execution_count": 21,
   "metadata": {},
   "outputs": [],
   "source": [
    "day = [pd.to_datetime(weather[\"date\"].values[i], format=\"%y%m%d\", errors='ignore').day for i in range(len(weather))]\n",
    "weather['day'] = day"
   ]
  },
  {
   "cell_type": "code",
   "execution_count": 12,
   "metadata": {},
   "outputs": [],
   "source": [
    "weather.to_csv(\"weather_imputation.csv\", index=False)"
   ]
  },
  {
   "cell_type": "code",
   "execution_count": 180,
   "metadata": {},
   "outputs": [],
   "source": [
    "df.to_csv(\"KeyWeather_datesliced.csv\",index=False)"
   ]
  },
  {
   "cell_type": "code",
   "execution_count": 303,
   "metadata": {},
   "outputs": [
    {
     "data": {
      "text/plain": [
       "(20517, 8763, 11754)"
      ]
     },
     "execution_count": 303,
     "metadata": {},
     "output_type": "execute_result"
    }
   ],
   "source": [
    "wth2 = weather.dropna(how='any')\n",
    "len(weather) , len(wth2), len(weather) - len(wth2)"
   ]
  },
  {
   "cell_type": "code",
   "execution_count": null,
   "metadata": {},
   "outputs": [],
   "source": [
    "# column별 NaN갯수 파악"
   ]
  },
  {
   "cell_type": "code",
   "execution_count": null,
   "metadata": {},
   "outputs": [],
   "source": [
    "# 연도별 월별 각 column 특징값 파악"
   ]
  },
  {
   "cell_type": "code",
   "execution_count": 134,
   "metadata": {},
   "outputs": [],
   "source": [
    "station5 = df.loc[df['station_nbr']==5,:]"
   ]
  },
  {
   "cell_type": "code",
   "execution_count": 159,
   "metadata": {},
   "outputs": [
    {
     "data": {
      "text/plain": [
       "False"
      ]
     },
     "execution_count": 159,
     "metadata": {},
     "output_type": "execute_result"
    }
   ],
   "source": [
    "np.nan in station5.tmax.values "
   ]
  },
  {
   "cell_type": "code",
   "execution_count": 194,
   "metadata": {},
   "outputs": [],
   "source": [
    "station5_1309 = station5[station5['tmax'].notna()]"
   ]
  },
  {
   "cell_type": "code",
   "execution_count": 196,
   "metadata": {},
   "outputs": [
    {
     "data": {
      "image/png": "[encoded data removed]",
      "text/plain": [
       "<matplotlib.figure.Figure at 0x22361ebf1d0>"
      ]
     },
     "metadata": {},
     "output_type": "display_data"
    }
   ],
   "source": [
    "station5.plot(x='date', y='tmax')\n",
    "plt.show()"
   ]
  },
  {
   "cell_type": "code",
   "execution_count": 289,
   "metadata": {},
   "outputs": [
    {
     "name": "stdout",
     "output_type": "stream",
     "text": [
      "20517\n",
      "entire null count by columns\n",
      "station_nbr : 0 ( 0.0 % )\n",
      "date : 0 ( 0.0 % )\n",
      "tmax : 906 ( 4.42 % )\n",
      "tmin : 908 ( 4.43 % )\n",
      "tavg : 912 ( 4.45 % )\n",
      "depart : 11511 ( 56.1 % )\n",
      "dewpoint : 666 ( 3.25 % )\n",
      "wetbulb : 1252 ( 6.1 % )\n",
      "heat : 1469 ( 7.16 % )\n",
      "cool : 1469 ( 7.16 % )\n",
      "sunrise : 9656 ( 47.06 % )\n",
      "sunset : 9656 ( 47.06 % )\n",
      "codesum : 0 ( 0.0 % )\n",
      "snowfall : 7224 ( 35.21 % )\n",
      "preciptotal : 860 ( 4.19 % )\n",
      "stnpressure : 929 ( 4.53 % )\n",
      "sealevel : 1724 ( 8.4 % )\n",
      "resultspeed : 589 ( 2.87 % )\n",
      "resultdir : 589 ( 2.87 % )\n",
      "avgspeed : 875 ( 4.26 % )\n"
     ]
    },
    {
     "data": {
      "image/png": "[encoded data removed]",
      "text/plain": [
       "<matplotlib.figure.Figure at 0x2238b06ef60>"
      ]
     },
     "metadata": {},
     "output_type": "display_data"
    }
   ],
   "source": [
    "print(len(weather))\n",
    "print(\"entire null count by columns\")\n",
    "dic = {}\n",
    "for i in weather.columns:\n",
    "    count_null = weather[i].isna().sum()\n",
    "    print(i, \":\", count_null, \"(\",round((count_null / 20517 * 100),2),\"%\",\")\")\n",
    "    \n",
    "    dic[i] = count_null\n",
    "\n",
    "plt.figure(figsize=(19,5))    \n",
    "sns.barplot(x=list(dic.keys()), y=list(dic.values()))\n",
    "plt.show()"
   ]
  },
  {
   "cell_type": "code",
   "execution_count": 11,
   "metadata": {},
   "outputs": [
    {
     "data": {
      "text/html": [
       "<div>\n",
       "<style scoped>\n",
       "    .dataframe tbody tr th:only-of-type {\n",
       "        vertical-align: middle;\n",
       "    }\n",
       "\n",
       "    .dataframe tbody tr th {\n",
       "        vertical-align: top;\n",
       "    }\n",
       "\n",
       "    .dataframe thead th {\n",
       "        text-align: right;\n",
       "    }\n",
       "</style>\n",
       "<table border=\"1\" class=\"dataframe\">\n",
       "  <thead>\n",
       "    <tr style=\"text-align: right;\">\n",
       "      <th></th>\n",
       "      <th>station_nbr</th>\n",
       "      <th>tmax</th>\n",
       "      <th>tmin</th>\n",
       "      <th>tavg</th>\n",
       "      <th>depart</th>\n",
       "      <th>dewpoint</th>\n",
       "      <th>wetbulb</th>\n",
       "      <th>heat</th>\n",
       "      <th>cool</th>\n",
       "      <th>stnpressure</th>\n",
       "      <th>sealevel</th>\n",
       "      <th>resultspeed</th>\n",
       "      <th>resultdir</th>\n",
       "      <th>avgspeed</th>\n",
       "    </tr>\n",
       "  </thead>\n",
       "  <tbody>\n",
       "    <tr>\n",
       "      <th>count</th>\n",
       "      <td>20517.000000</td>\n",
       "      <td>19611.000000</td>\n",
       "      <td>19609.000000</td>\n",
       "      <td>19048.000000</td>\n",
       "      <td>9006.000000</td>\n",
       "      <td>19851.000000</td>\n",
       "      <td>19265.000000</td>\n",
       "      <td>19048.000000</td>\n",
       "      <td>19048.000000</td>\n",
       "      <td>19588.000000</td>\n",
       "      <td>18793.000000</td>\n",
       "      <td>19928.000000</td>\n",
       "      <td>19928.000000</td>\n",
       "      <td>19642.000000</td>\n",
       "    </tr>\n",
       "    <tr>\n",
       "      <th>mean</th>\n",
       "      <td>10.549057</td>\n",
       "      <td>71.621131</td>\n",
       "      <td>50.654546</td>\n",
       "      <td>61.240130</td>\n",
       "      <td>1.363091</td>\n",
       "      <td>47.270918</td>\n",
       "      <td>53.888243</td>\n",
       "      <td>9.704536</td>\n",
       "      <td>5.944666</td>\n",
       "      <td>29.162770</td>\n",
       "      <td>30.009160</td>\n",
       "      <td>6.468326</td>\n",
       "      <td>18.729928</td>\n",
       "      <td>7.914077</td>\n",
       "    </tr>\n",
       "    <tr>\n",
       "      <th>std</th>\n",
       "      <td>5.768533</td>\n",
       "      <td>19.847451</td>\n",
       "      <td>19.139055</td>\n",
       "      <td>19.194357</td>\n",
       "      <td>7.646759</td>\n",
       "      <td>19.400495</td>\n",
       "      <td>17.017772</td>\n",
       "      <td>13.843873</td>\n",
       "      <td>7.834796</td>\n",
       "      <td>1.245414</td>\n",
       "      <td>0.191134</td>\n",
       "      <td>4.192577</td>\n",
       "      <td>9.675662</td>\n",
       "      <td>3.933458</td>\n",
       "    </tr>\n",
       "    <tr>\n",
       "      <th>min</th>\n",
       "      <td>1.000000</td>\n",
       "      <td>-11.000000</td>\n",
       "      <td>-21.000000</td>\n",
       "      <td>-16.000000</td>\n",
       "      <td>-35.000000</td>\n",
       "      <td>-24.000000</td>\n",
       "      <td>-15.000000</td>\n",
       "      <td>0.000000</td>\n",
       "      <td>0.000000</td>\n",
       "      <td>23.720000</td>\n",
       "      <td>29.160000</td>\n",
       "      <td>0.000000</td>\n",
       "      <td>1.000000</td>\n",
       "      <td>0.000000</td>\n",
       "    </tr>\n",
       "    <tr>\n",
       "      <th>25%</th>\n",
       "      <td>6.000000</td>\n",
       "      <td>59.000000</td>\n",
       "      <td>37.000000</td>\n",
       "      <td>48.000000</td>\n",
       "      <td>-3.000000</td>\n",
       "      <td>33.000000</td>\n",
       "      <td>42.000000</td>\n",
       "      <td>0.000000</td>\n",
       "      <td>0.000000</td>\n",
       "      <td>29.110000</td>\n",
       "      <td>29.890000</td>\n",
       "      <td>3.200000</td>\n",
       "      <td>13.000000</td>\n",
       "      <td>5.100000</td>\n",
       "    </tr>\n",
       "    <tr>\n",
       "      <th>50%</th>\n",
       "      <td>11.000000</td>\n",
       "      <td>76.000000</td>\n",
       "      <td>53.000000</td>\n",
       "      <td>65.000000</td>\n",
       "      <td>2.000000</td>\n",
       "      <td>51.000000</td>\n",
       "      <td>57.000000</td>\n",
       "      <td>0.000000</td>\n",
       "      <td>0.000000</td>\n",
       "      <td>29.410000</td>\n",
       "      <td>30.000000</td>\n",
       "      <td>5.700000</td>\n",
       "      <td>18.000000</td>\n",
       "      <td>7.300000</td>\n",
       "    </tr>\n",
       "    <tr>\n",
       "      <th>75%</th>\n",
       "      <td>16.000000</td>\n",
       "      <td>87.000000</td>\n",
       "      <td>67.000000</td>\n",
       "      <td>77.000000</td>\n",
       "      <td>6.000000</td>\n",
       "      <td>64.000000</td>\n",
       "      <td>68.000000</td>\n",
       "      <td>17.000000</td>\n",
       "      <td>12.000000</td>\n",
       "      <td>29.780000</td>\n",
       "      <td>30.130000</td>\n",
       "      <td>8.900000</td>\n",
       "      <td>26.000000</td>\n",
       "      <td>10.100000</td>\n",
       "    </tr>\n",
       "    <tr>\n",
       "      <th>max</th>\n",
       "      <td>20.000000</td>\n",
       "      <td>114.000000</td>\n",
       "      <td>88.000000</td>\n",
       "      <td>100.000000</td>\n",
       "      <td>33.000000</td>\n",
       "      <td>77.000000</td>\n",
       "      <td>80.000000</td>\n",
       "      <td>81.000000</td>\n",
       "      <td>35.000000</td>\n",
       "      <td>30.610000</td>\n",
       "      <td>30.800000</td>\n",
       "      <td>28.400000</td>\n",
       "      <td>36.000000</td>\n",
       "      <td>28.700000</td>\n",
       "    </tr>\n",
       "  </tbody>\n",
       "</table>\n",
       "</div>"
      ],
      "text/plain": [
       "        station_nbr          tmax          tmin          tavg       depart  \\\n",
       "count  20517.000000  19611.000000  19609.000000  19048.000000  9006.000000   \n",
       "mean      10.549057     71.621131     50.654546     61.240130     1.363091   \n",
       "std        5.768533     19.847451     19.139055     19.194357     7.646759   \n",
       "min        1.000000    -11.000000    -21.000000    -16.000000   -35.000000   \n",
       "25%        6.000000     59.000000     37.000000     48.000000    -3.000000   \n",
       "50%       11.000000     76.000000     53.000000     65.000000     2.000000   \n",
       "75%       16.000000     87.000000     67.000000     77.000000     6.000000   \n",
       "max       20.000000    114.000000     88.000000    100.000000    33.000000   \n",
       "\n",
       "           dewpoint       wetbulb          heat          cool   stnpressure  \\\n",
       "count  19851.000000  19265.000000  19048.000000  19048.000000  19588.000000   \n",
       "mean      47.270918     53.888243      9.704536      5.944666     29.162770   \n",
       "std       19.400495     17.017772     13.843873      7.834796      1.245414   \n",
       "min      -24.000000    -15.000000      0.000000      0.000000     23.720000   \n",
       "25%       33.000000     42.000000      0.000000      0.000000     29.110000   \n",
       "50%       51.000000     57.000000      0.000000      0.000000     29.410000   \n",
       "75%       64.000000     68.000000     17.000000     12.000000     29.780000   \n",
       "max       77.000000     80.000000     81.000000     35.000000     30.610000   \n",
       "\n",
       "           sealevel   resultspeed     resultdir      avgspeed  \n",
       "count  18793.000000  19928.000000  19928.000000  19642.000000  \n",
       "mean      30.009160      6.468326     18.729928      7.914077  \n",
       "std        0.191134      4.192577      9.675662      3.933458  \n",
       "min       29.160000      0.000000      1.000000      0.000000  \n",
       "25%       29.890000      3.200000     13.000000      5.100000  \n",
       "50%       30.000000      5.700000     18.000000      7.300000  \n",
       "75%       30.130000      8.900000     26.000000     10.100000  \n",
       "max       30.800000     28.400000     36.000000     28.700000  "
      ]
     },
     "execution_count": 11,
     "metadata": {},
     "output_type": "execute_result"
    }
   ],
   "source": [
    "weather.describe()"
   ]
  },
  {
   "cell_type": "code",
   "execution_count": 22,
   "metadata": {},
   "outputs": [
    {
     "data": {
      "image/png": "[encoded data removed]",
      "text/plain": [
       "<matplotlib.figure.Figure at 0x1797c2f0630>"
      ]
     },
     "metadata": {},
     "output_type": "display_data"
    }
   ],
   "source": [
    "sns.barplot(x='year', y=\"tmax\", data=weather)\n",
    "plt.show()"
   ]
  },
  {
   "cell_type": "markdown",
   "metadata": {},
   "source": [
    "연도별로 온도의 편차는 크지 않다."
   ]
  },
  {
   "cell_type": "code",
   "execution_count": 24,
   "metadata": {},
   "outputs": [
    {
     "data": {
      "image/png": "[encoded data removed]",
      "text/plain": [
       "<matplotlib.figure.Figure at 0x1797bc859e8>"
      ]
     },
     "metadata": {},
     "output_type": "display_data"
    }
   ],
   "source": [
    "sns.barplot(x='year', y=\"tmin\", data=weather)\n",
    "plt.show()"
   ]
  },
  {
   "cell_type": "code",
   "execution_count": 28,
   "metadata": {},
   "outputs": [
    {
     "data": {
      "image/png": "[encoded data removed]",
      "text/plain": [
       "<matplotlib.figure.Figure at 0x1797f495550>"
      ]
     },
     "metadata": {},
     "output_type": "display_data"
    }
   ],
   "source": [
    "sns.barplot(x='year', y=\"cool\", data=weather)\n",
    "plt.show()"
   ]
  },
  {
   "cell_type": "code",
   "execution_count": 30,
   "metadata": {
    "scrolled": true
   },
   "outputs": [
    {
     "data": {
      "image/png": "[encoded data removed]",
      "text/plain": [
       "<matplotlib.figure.Figure at 0x1797f307d68>"
      ]
     },
     "metadata": {},
     "output_type": "display_data"
    }
   ],
   "source": [
    "sns.barplot(x='year', y=\"preciptotal\", data=weather)\n",
    "plt.show()"
   ]
  },
  {
   "cell_type": "code",
   "execution_count": 31,
   "metadata": {},
   "outputs": [],
   "source": [
    "station = weather[weather['station_nbr']==1]"
   ]
  },
  {
   "cell_type": "code",
   "execution_count": 33,
   "metadata": {},
   "outputs": [
    {
     "data": {
      "image/png": "[encoded data removed]",
      "text/plain": [
       "<matplotlib.figure.Figure at 0x1797f184f98>"
      ]
     },
     "metadata": {},
     "output_type": "display_data"
    }
   ],
   "source": [
    "sns.barplot(x='year', y=\"preciptotal\", data=station)\n",
    "plt.show()"
   ]
  },
  {
   "cell_type": "code",
   "execution_count": 34,
   "metadata": {},
   "outputs": [
    {
     "data": {
      "image/png": "[encoded data removed]",
      "text/plain": [
       "<matplotlib.figure.Figure at 0x1797d065e80>"
      ]
     },
     "metadata": {},
     "output_type": "display_data"
    }
   ],
   "source": [
    "sns.barplot(x='year', y=\"tmax\", data=station)\n",
    "plt.show()"
   ]
  },
  {
   "cell_type": "code",
   "execution_count": 42,
   "metadata": {},
   "outputs": [
    {
     "data": {
      "image/png": "[encoded data removed]",
      "text/plain": [
       "<matplotlib.figure.Figure at 0x1797d2a80f0>"
      ]
     },
     "metadata": {},
     "output_type": "display_data"
    }
   ],
   "source": [
    "weather.preciptotal.plot.box()\n",
    "plt.ylim(-0.05,0.05)\n",
    "plt.show()"
   ]
  },
  {
   "cell_type": "code",
   "execution_count": 44,
   "metadata": {},
   "outputs": [
    {
     "data": {
      "text/plain": [
       "0.01"
      ]
     },
     "execution_count": 44,
     "metadata": {},
     "output_type": "execute_result"
    }
   ],
   "source": [
    "weather.preciptotal[weather.preciptotal > 0.005].min()"
   ]
  },
  {
   "cell_type": "code",
   "execution_count": null,
   "metadata": {},
   "outputs": [],
   "source": []
  }
 ],
 "metadata": {
  "kernelspec": {
   "display_name": "Python 3",
   "language": "python",
   "name": "python3"
  },
  "language_info": {
   "codemirror_mode": {
    "name": "ipython",
    "version": 3
   },
   "file_extension": ".py",
   "mimetype": "text/x-python",
   "name": "python",
   "nbconvert_exporter": "python",
   "pygments_lexer": "ipython3",
   "version": "3.6.4"
  }
 },
 "nbformat": 4,
 "nbformat_minor": 2
}
