{
 "cells": [
  {
   "cell_type": "code",
   "execution_count": 1,
   "metadata": {},
   "outputs": [],
   "source": [
    "weather = pd.read_csv(\"../weather2_180701.csv\")\n",
    "weather['date'] = pd.to_datetime(weather[\"date\"])\n",
    "station = weather[weather['station_nbr'] == 1]"
   ]
  },
  {
   "cell_type": "code",
   "execution_count": 2,
   "metadata": {
    "scrolled": true
   },
   "outputs": [
    {
     "data": {
      "text/html": [
       "<div>\n",
       "<style scoped>\n",
       "    .dataframe tbody tr th:only-of-type {\n",
       "        vertical-align: middle;\n",
       "    }\n",
       "\n",
       "    .dataframe tbody tr th {\n",
       "        vertical-align: top;\n",
       "    }\n",
       "\n",
       "    .dataframe thead th {\n",
       "        text-align: right;\n",
       "    }\n",
       "</style>\n",
       "<table border=\"1\" class=\"dataframe\">\n",
       "  <thead>\n",
       "    <tr style=\"text-align: right;\">\n",
       "      <th></th>\n",
       "      <th>station_nbr</th>\n",
       "      <th>date</th>\n",
       "      <th>tmax</th>\n",
       "      <th>tmin</th>\n",
       "      <th>tavg</th>\n",
       "      <th>depart</th>\n",
       "      <th>dewpoint</th>\n",
       "      <th>wetbulb</th>\n",
       "      <th>heat</th>\n",
       "      <th>cool</th>\n",
       "      <th>...</th>\n",
       "      <th>avgspeed</th>\n",
       "      <th>year</th>\n",
       "      <th>month</th>\n",
       "      <th>day</th>\n",
       "      <th>relative_humility</th>\n",
       "      <th>windchill</th>\n",
       "      <th>daytime</th>\n",
       "      <th>week7</th>\n",
       "      <th>weekend</th>\n",
       "      <th>code_change</th>\n",
       "    </tr>\n",
       "  </thead>\n",
       "  <tbody>\n",
       "    <tr>\n",
       "      <th>1030</th>\n",
       "      <td>1</td>\n",
       "      <td>2014-10-27</td>\n",
       "      <td>61.0</td>\n",
       "      <td>41.0</td>\n",
       "      <td>51.0</td>\n",
       "      <td>NaN</td>\n",
       "      <td>38.0</td>\n",
       "      <td>44.0</td>\n",
       "      <td>14.0</td>\n",
       "      <td>0.0</td>\n",
       "      <td>...</td>\n",
       "      <td>7.3</td>\n",
       "      <td>2014</td>\n",
       "      <td>10</td>\n",
       "      <td>27</td>\n",
       "      <td>60.947558</td>\n",
       "      <td>48.266239</td>\n",
       "      <td>NaN</td>\n",
       "      <td>0</td>\n",
       "      <td>0</td>\n",
       "      <td>0</td>\n",
       "    </tr>\n",
       "    <tr>\n",
       "      <th>1031</th>\n",
       "      <td>1</td>\n",
       "      <td>2014-10-28</td>\n",
       "      <td>65.0</td>\n",
       "      <td>37.0</td>\n",
       "      <td>51.0</td>\n",
       "      <td>NaN</td>\n",
       "      <td>45.0</td>\n",
       "      <td>48.0</td>\n",
       "      <td>14.0</td>\n",
       "      <td>0.0</td>\n",
       "      <td>...</td>\n",
       "      <td>3.6</td>\n",
       "      <td>2014</td>\n",
       "      <td>10</td>\n",
       "      <td>28</td>\n",
       "      <td>79.853021</td>\n",
       "      <td>50.316460</td>\n",
       "      <td>NaN</td>\n",
       "      <td>1</td>\n",
       "      <td>0</td>\n",
       "      <td>1</td>\n",
       "    </tr>\n",
       "    <tr>\n",
       "      <th>1032</th>\n",
       "      <td>1</td>\n",
       "      <td>2014-10-29</td>\n",
       "      <td>66.0</td>\n",
       "      <td>48.0</td>\n",
       "      <td>57.0</td>\n",
       "      <td>NaN</td>\n",
       "      <td>51.0</td>\n",
       "      <td>53.0</td>\n",
       "      <td>8.0</td>\n",
       "      <td>0.0</td>\n",
       "      <td>...</td>\n",
       "      <td>4.4</td>\n",
       "      <td>2014</td>\n",
       "      <td>10</td>\n",
       "      <td>29</td>\n",
       "      <td>80.320545</td>\n",
       "      <td>56.738033</td>\n",
       "      <td>NaN</td>\n",
       "      <td>2</td>\n",
       "      <td>0</td>\n",
       "      <td>2</td>\n",
       "    </tr>\n",
       "    <tr>\n",
       "      <th>1033</th>\n",
       "      <td>1</td>\n",
       "      <td>2014-10-30</td>\n",
       "      <td>57.0</td>\n",
       "      <td>39.0</td>\n",
       "      <td>48.0</td>\n",
       "      <td>NaN</td>\n",
       "      <td>39.0</td>\n",
       "      <td>43.0</td>\n",
       "      <td>17.0</td>\n",
       "      <td>0.0</td>\n",
       "      <td>...</td>\n",
       "      <td>3.7</td>\n",
       "      <td>2014</td>\n",
       "      <td>10</td>\n",
       "      <td>30</td>\n",
       "      <td>70.872191</td>\n",
       "      <td>46.795606</td>\n",
       "      <td>NaN</td>\n",
       "      <td>3</td>\n",
       "      <td>0</td>\n",
       "      <td>0</td>\n",
       "    </tr>\n",
       "    <tr>\n",
       "      <th>1034</th>\n",
       "      <td>1</td>\n",
       "      <td>2014-10-31</td>\n",
       "      <td>53.0</td>\n",
       "      <td>40.0</td>\n",
       "      <td>46.5</td>\n",
       "      <td>NaN</td>\n",
       "      <td>36.0</td>\n",
       "      <td>41.0</td>\n",
       "      <td>18.0</td>\n",
       "      <td>0.0</td>\n",
       "      <td>...</td>\n",
       "      <td>5.8</td>\n",
       "      <td>2014</td>\n",
       "      <td>10</td>\n",
       "      <td>31</td>\n",
       "      <td>66.647959</td>\n",
       "      <td>43.613607</td>\n",
       "      <td>NaN</td>\n",
       "      <td>4</td>\n",
       "      <td>0</td>\n",
       "      <td>0</td>\n",
       "    </tr>\n",
       "  </tbody>\n",
       "</table>\n",
       "<p>5 rows × 29 columns</p>\n",
       "</div>"
      ],
      "text/plain": [
       "      station_nbr       date  tmax  tmin  tavg  depart  dewpoint  wetbulb  \\\n",
       "1030            1 2014-10-27  61.0  41.0  51.0     NaN      38.0     44.0   \n",
       "1031            1 2014-10-28  65.0  37.0  51.0     NaN      45.0     48.0   \n",
       "1032            1 2014-10-29  66.0  48.0  57.0     NaN      51.0     53.0   \n",
       "1033            1 2014-10-30  57.0  39.0  48.0     NaN      39.0     43.0   \n",
       "1034            1 2014-10-31  53.0  40.0  46.5     NaN      36.0     41.0   \n",
       "\n",
       "      heat  cool     ...       avgspeed  year month  day  relative_humility  \\\n",
       "1030  14.0   0.0     ...            7.3  2014    10   27          60.947558   \n",
       "1031  14.0   0.0     ...            3.6  2014    10   28          79.853021   \n",
       "1032   8.0   0.0     ...            4.4  2014    10   29          80.320545   \n",
       "1033  17.0   0.0     ...            3.7  2014    10   30          70.872191   \n",
       "1034  18.0   0.0     ...            5.8  2014    10   31          66.647959   \n",
       "\n",
       "      windchill  daytime  week7  weekend  code_change  \n",
       "1030  48.266239      NaN      0        0            0  \n",
       "1031  50.316460      NaN      1        0            1  \n",
       "1032  56.738033      NaN      2        0            2  \n",
       "1033  46.795606      NaN      3        0            0  \n",
       "1034  43.613607      NaN      4        0            0  \n",
       "\n",
       "[5 rows x 29 columns]"
      ]
     },
     "execution_count": 2,
     "metadata": {},
     "output_type": "execute_result"
    }
   ],
   "source": [
    "station.tail()"
   ]
  },
  {
   "cell_type": "code",
   "execution_count": 3,
   "metadata": {},
   "outputs": [
    {
     "data": {
      "image/png": "[encoded data removed]",
      "text/plain": [
       "<matplotlib.figure.Figure at 0x22b5eef4668>"
      ]
     },
     "metadata": {},
     "output_type": "display_data"
    }
   ],
   "source": [
    "sns.distplot(station.tmax, kde=True)\n",
    "plt.show()"
   ]
  },
  {
   "cell_type": "code",
   "execution_count": 4,
   "metadata": {
    "scrolled": true
   },
   "outputs": [
    {
     "name": "stdout",
     "output_type": "stream",
     "text": [
      "station_nbr : 0 ( 0.0 % )\n",
      "date : 0 ( 0.0 % )\n",
      "tmax : 0 ( 0.0 % )\n",
      "tmin : 0 ( 0.0 % )\n",
      "tavg : 0 ( 0.0 % )\n",
      "depart : 1035 ( 100.0 % )\n",
      "dewpoint : 0 ( 0.0 % )\n",
      "wetbulb : 0 ( 0.0 % )\n",
      "heat : 0 ( 0.0 % )\n",
      "cool : 0 ( 0.0 % )\n",
      "sunrise : 1035 ( 100.0 % )\n",
      "sunset : 1035 ( 100.0 % )\n",
      "codesum : 0 ( 0.0 % )\n",
      "snowfall : 1035 ( 100.0 % )\n",
      "preciptotal : 0 ( 0.0 % )\n",
      "stnpressure : 0 ( 0.0 % )\n",
      "sealevel : 0 ( 0.0 % )\n",
      "resultspeed : 0 ( 0.0 % )\n",
      "resultdir : 4 ( 0.39 % )\n",
      "avgspeed : 0 ( 0.0 % )\n",
      "year : 0 ( 0.0 % )\n",
      "month : 0 ( 0.0 % )\n",
      "day : 0 ( 0.0 % )\n",
      "relative_humility : 0 ( 0.0 % )\n",
      "windchill : 0 ( 0.0 % )\n",
      "daytime : 1035 ( 100.0 % )\n",
      "week7 : 0 ( 0.0 % )\n",
      "weekend : 0 ( 0.0 % )\n",
      "code_change : 0 ( 0.0 % )\n"
     ]
    }
   ],
   "source": [
    "for i in station.columns:\n",
    "    count_null = station[i].isna().sum()\n",
    "    print(i, \":\", count_null, \"(\",round((count_null / len(station) * 100),2),\"%\",\")\")"
   ]
  },
  {
   "cell_type": "code",
   "execution_count": 5,
   "metadata": {},
   "outputs": [
    {
     "data": {
      "text/html": [
       "<div>\n",
       "<style scoped>\n",
       "    .dataframe tbody tr th:only-of-type {\n",
       "        vertical-align: middle;\n",
       "    }\n",
       "\n",
       "    .dataframe tbody tr th {\n",
       "        vertical-align: top;\n",
       "    }\n",
       "\n",
       "    .dataframe thead th {\n",
       "        text-align: right;\n",
       "    }\n",
       "</style>\n",
       "<table border=\"1\" class=\"dataframe\">\n",
       "  <thead>\n",
       "    <tr style=\"text-align: right;\">\n",
       "      <th></th>\n",
       "      <th>date</th>\n",
       "      <th>store_nbr</th>\n",
       "      <th>item_nbr</th>\n",
       "      <th>units</th>\n",
       "    </tr>\n",
       "  </thead>\n",
       "  <tbody>\n",
       "    <tr>\n",
       "      <th>4617595</th>\n",
       "      <td>2014-10-31</td>\n",
       "      <td>45</td>\n",
       "      <td>107</td>\n",
       "      <td>0</td>\n",
       "    </tr>\n",
       "    <tr>\n",
       "      <th>4617596</th>\n",
       "      <td>2014-10-31</td>\n",
       "      <td>45</td>\n",
       "      <td>108</td>\n",
       "      <td>0</td>\n",
       "    </tr>\n",
       "    <tr>\n",
       "      <th>4617597</th>\n",
       "      <td>2014-10-31</td>\n",
       "      <td>45</td>\n",
       "      <td>109</td>\n",
       "      <td>0</td>\n",
       "    </tr>\n",
       "    <tr>\n",
       "      <th>4617598</th>\n",
       "      <td>2014-10-31</td>\n",
       "      <td>45</td>\n",
       "      <td>110</td>\n",
       "      <td>0</td>\n",
       "    </tr>\n",
       "    <tr>\n",
       "      <th>4617599</th>\n",
       "      <td>2014-10-31</td>\n",
       "      <td>45</td>\n",
       "      <td>111</td>\n",
       "      <td>0</td>\n",
       "    </tr>\n",
       "  </tbody>\n",
       "</table>\n",
       "</div>"
      ],
      "text/plain": [
       "               date  store_nbr  item_nbr  units\n",
       "4617595  2014-10-31         45       107      0\n",
       "4617596  2014-10-31         45       108      0\n",
       "4617597  2014-10-31         45       109      0\n",
       "4617598  2014-10-31         45       110      0\n",
       "4617599  2014-10-31         45       111      0"
      ]
     },
     "execution_count": 5,
     "metadata": {},
     "output_type": "execute_result"
    }
   ],
   "source": [
    "train = pd.read_csv(\"../data/train.csv\")\n",
    "train.tail()"
   ]
  },
  {
   "cell_type": "code",
   "execution_count": 6,
   "metadata": {},
   "outputs": [],
   "source": [
    "train.date = pd.to_datetime(train.date)"
   ]
  },
  {
   "cell_type": "code",
   "execution_count": 7,
   "metadata": {},
   "outputs": [],
   "source": [
    "key = pd.read_csv(\"../data/key.csv\")\n",
    "station = station.merge(key)"
   ]
  },
  {
   "cell_type": "code",
   "execution_count": 8,
   "metadata": {},
   "outputs": [
    {
     "data": {
      "text/html": [
       "<div>\n",
       "<style scoped>\n",
       "    .dataframe tbody tr th:only-of-type {\n",
       "        vertical-align: middle;\n",
       "    }\n",
       "\n",
       "    .dataframe tbody tr th {\n",
       "        vertical-align: top;\n",
       "    }\n",
       "\n",
       "    .dataframe thead th {\n",
       "        text-align: right;\n",
       "    }\n",
       "</style>\n",
       "<table border=\"1\" class=\"dataframe\">\n",
       "  <thead>\n",
       "    <tr style=\"text-align: right;\">\n",
       "      <th></th>\n",
       "      <th>station_nbr</th>\n",
       "      <th>date</th>\n",
       "      <th>tmax</th>\n",
       "      <th>tmin</th>\n",
       "      <th>tavg</th>\n",
       "      <th>depart</th>\n",
       "      <th>dewpoint</th>\n",
       "      <th>wetbulb</th>\n",
       "      <th>heat</th>\n",
       "      <th>cool</th>\n",
       "      <th>...</th>\n",
       "      <th>day</th>\n",
       "      <th>relative_humility</th>\n",
       "      <th>windchill</th>\n",
       "      <th>daytime</th>\n",
       "      <th>week7</th>\n",
       "      <th>weekend</th>\n",
       "      <th>code_change</th>\n",
       "      <th>store_nbr</th>\n",
       "      <th>item_nbr</th>\n",
       "      <th>units</th>\n",
       "    </tr>\n",
       "  </thead>\n",
       "  <tbody>\n",
       "    <tr>\n",
       "      <th>103114</th>\n",
       "      <td>1</td>\n",
       "      <td>2014-10-31</td>\n",
       "      <td>53.0</td>\n",
       "      <td>40.0</td>\n",
       "      <td>46.5</td>\n",
       "      <td>NaN</td>\n",
       "      <td>36.0</td>\n",
       "      <td>41.0</td>\n",
       "      <td>18.0</td>\n",
       "      <td>0.0</td>\n",
       "      <td>...</td>\n",
       "      <td>31</td>\n",
       "      <td>66.647959</td>\n",
       "      <td>43.613607</td>\n",
       "      <td>NaN</td>\n",
       "      <td>4</td>\n",
       "      <td>0</td>\n",
       "      <td>0</td>\n",
       "      <td>1</td>\n",
       "      <td>107</td>\n",
       "      <td>0</td>\n",
       "    </tr>\n",
       "    <tr>\n",
       "      <th>103115</th>\n",
       "      <td>1</td>\n",
       "      <td>2014-10-31</td>\n",
       "      <td>53.0</td>\n",
       "      <td>40.0</td>\n",
       "      <td>46.5</td>\n",
       "      <td>NaN</td>\n",
       "      <td>36.0</td>\n",
       "      <td>41.0</td>\n",
       "      <td>18.0</td>\n",
       "      <td>0.0</td>\n",
       "      <td>...</td>\n",
       "      <td>31</td>\n",
       "      <td>66.647959</td>\n",
       "      <td>43.613607</td>\n",
       "      <td>NaN</td>\n",
       "      <td>4</td>\n",
       "      <td>0</td>\n",
       "      <td>0</td>\n",
       "      <td>1</td>\n",
       "      <td>108</td>\n",
       "      <td>0</td>\n",
       "    </tr>\n",
       "    <tr>\n",
       "      <th>103116</th>\n",
       "      <td>1</td>\n",
       "      <td>2014-10-31</td>\n",
       "      <td>53.0</td>\n",
       "      <td>40.0</td>\n",
       "      <td>46.5</td>\n",
       "      <td>NaN</td>\n",
       "      <td>36.0</td>\n",
       "      <td>41.0</td>\n",
       "      <td>18.0</td>\n",
       "      <td>0.0</td>\n",
       "      <td>...</td>\n",
       "      <td>31</td>\n",
       "      <td>66.647959</td>\n",
       "      <td>43.613607</td>\n",
       "      <td>NaN</td>\n",
       "      <td>4</td>\n",
       "      <td>0</td>\n",
       "      <td>0</td>\n",
       "      <td>1</td>\n",
       "      <td>109</td>\n",
       "      <td>0</td>\n",
       "    </tr>\n",
       "    <tr>\n",
       "      <th>103117</th>\n",
       "      <td>1</td>\n",
       "      <td>2014-10-31</td>\n",
       "      <td>53.0</td>\n",
       "      <td>40.0</td>\n",
       "      <td>46.5</td>\n",
       "      <td>NaN</td>\n",
       "      <td>36.0</td>\n",
       "      <td>41.0</td>\n",
       "      <td>18.0</td>\n",
       "      <td>0.0</td>\n",
       "      <td>...</td>\n",
       "      <td>31</td>\n",
       "      <td>66.647959</td>\n",
       "      <td>43.613607</td>\n",
       "      <td>NaN</td>\n",
       "      <td>4</td>\n",
       "      <td>0</td>\n",
       "      <td>0</td>\n",
       "      <td>1</td>\n",
       "      <td>110</td>\n",
       "      <td>0</td>\n",
       "    </tr>\n",
       "    <tr>\n",
       "      <th>103118</th>\n",
       "      <td>1</td>\n",
       "      <td>2014-10-31</td>\n",
       "      <td>53.0</td>\n",
       "      <td>40.0</td>\n",
       "      <td>46.5</td>\n",
       "      <td>NaN</td>\n",
       "      <td>36.0</td>\n",
       "      <td>41.0</td>\n",
       "      <td>18.0</td>\n",
       "      <td>0.0</td>\n",
       "      <td>...</td>\n",
       "      <td>31</td>\n",
       "      <td>66.647959</td>\n",
       "      <td>43.613607</td>\n",
       "      <td>NaN</td>\n",
       "      <td>4</td>\n",
       "      <td>0</td>\n",
       "      <td>0</td>\n",
       "      <td>1</td>\n",
       "      <td>111</td>\n",
       "      <td>0</td>\n",
       "    </tr>\n",
       "  </tbody>\n",
       "</table>\n",
       "<p>5 rows × 32 columns</p>\n",
       "</div>"
      ],
      "text/plain": [
       "        station_nbr       date  tmax  tmin  tavg  depart  dewpoint  wetbulb  \\\n",
       "103114            1 2014-10-31  53.0  40.0  46.5     NaN      36.0     41.0   \n",
       "103115            1 2014-10-31  53.0  40.0  46.5     NaN      36.0     41.0   \n",
       "103116            1 2014-10-31  53.0  40.0  46.5     NaN      36.0     41.0   \n",
       "103117            1 2014-10-31  53.0  40.0  46.5     NaN      36.0     41.0   \n",
       "103118            1 2014-10-31  53.0  40.0  46.5     NaN      36.0     41.0   \n",
       "\n",
       "        heat  cool  ...    day  relative_humility  windchill  daytime  week7  \\\n",
       "103114  18.0   0.0  ...     31          66.647959  43.613607      NaN      4   \n",
       "103115  18.0   0.0  ...     31          66.647959  43.613607      NaN      4   \n",
       "103116  18.0   0.0  ...     31          66.647959  43.613607      NaN      4   \n",
       "103117  18.0   0.0  ...     31          66.647959  43.613607      NaN      4   \n",
       "103118  18.0   0.0  ...     31          66.647959  43.613607      NaN      4   \n",
       "\n",
       "        weekend  code_change  store_nbr  item_nbr  units  \n",
       "103114        0            0          1       107      0  \n",
       "103115        0            0          1       108      0  \n",
       "103116        0            0          1       109      0  \n",
       "103117        0            0          1       110      0  \n",
       "103118        0            0          1       111      0  \n",
       "\n",
       "[5 rows x 32 columns]"
      ]
     },
     "execution_count": 8,
     "metadata": {},
     "output_type": "execute_result"
    }
   ],
   "source": [
    "station = station.merge(train)\n",
    "station.tail()"
   ]
  },
  {
   "cell_type": "code",
   "execution_count": 9,
   "metadata": {},
   "outputs": [],
   "source": [
    "station['log1p_units'] = np.log1p(station.units)"
   ]
  },
  {
   "cell_type": "code",
   "execution_count": 10,
   "metadata": {},
   "outputs": [
    {
     "data": {
      "text/html": [
       "<div>\n",
       "<style scoped>\n",
       "    .dataframe tbody tr th:only-of-type {\n",
       "        vertical-align: middle;\n",
       "    }\n",
       "\n",
       "    .dataframe tbody tr th {\n",
       "        vertical-align: top;\n",
       "    }\n",
       "\n",
       "    .dataframe thead th {\n",
       "        text-align: right;\n",
       "    }\n",
       "</style>\n",
       "<table border=\"1\" class=\"dataframe\">\n",
       "  <thead>\n",
       "    <tr style=\"text-align: right;\">\n",
       "      <th></th>\n",
       "      <th>station_nbr</th>\n",
       "      <th>date</th>\n",
       "      <th>tmax</th>\n",
       "      <th>tmin</th>\n",
       "      <th>tavg</th>\n",
       "      <th>depart</th>\n",
       "      <th>dewpoint</th>\n",
       "      <th>wetbulb</th>\n",
       "      <th>heat</th>\n",
       "      <th>cool</th>\n",
       "      <th>...</th>\n",
       "      <th>relative_humility</th>\n",
       "      <th>windchill</th>\n",
       "      <th>daytime</th>\n",
       "      <th>week7</th>\n",
       "      <th>weekend</th>\n",
       "      <th>code_change</th>\n",
       "      <th>store_nbr</th>\n",
       "      <th>item_nbr</th>\n",
       "      <th>units</th>\n",
       "      <th>log1p_units</th>\n",
       "    </tr>\n",
       "  </thead>\n",
       "  <tbody>\n",
       "    <tr>\n",
       "      <th>103114</th>\n",
       "      <td>1</td>\n",
       "      <td>2014-10-31</td>\n",
       "      <td>53.0</td>\n",
       "      <td>40.0</td>\n",
       "      <td>46.5</td>\n",
       "      <td>NaN</td>\n",
       "      <td>36.0</td>\n",
       "      <td>41.0</td>\n",
       "      <td>18.0</td>\n",
       "      <td>0.0</td>\n",
       "      <td>...</td>\n",
       "      <td>66.647959</td>\n",
       "      <td>43.613607</td>\n",
       "      <td>NaN</td>\n",
       "      <td>4</td>\n",
       "      <td>0</td>\n",
       "      <td>0</td>\n",
       "      <td>1</td>\n",
       "      <td>107</td>\n",
       "      <td>0</td>\n",
       "      <td>0.0</td>\n",
       "    </tr>\n",
       "    <tr>\n",
       "      <th>103115</th>\n",
       "      <td>1</td>\n",
       "      <td>2014-10-31</td>\n",
       "      <td>53.0</td>\n",
       "      <td>40.0</td>\n",
       "      <td>46.5</td>\n",
       "      <td>NaN</td>\n",
       "      <td>36.0</td>\n",
       "      <td>41.0</td>\n",
       "      <td>18.0</td>\n",
       "      <td>0.0</td>\n",
       "      <td>...</td>\n",
       "      <td>66.647959</td>\n",
       "      <td>43.613607</td>\n",
       "      <td>NaN</td>\n",
       "      <td>4</td>\n",
       "      <td>0</td>\n",
       "      <td>0</td>\n",
       "      <td>1</td>\n",
       "      <td>108</td>\n",
       "      <td>0</td>\n",
       "      <td>0.0</td>\n",
       "    </tr>\n",
       "    <tr>\n",
       "      <th>103116</th>\n",
       "      <td>1</td>\n",
       "      <td>2014-10-31</td>\n",
       "      <td>53.0</td>\n",
       "      <td>40.0</td>\n",
       "      <td>46.5</td>\n",
       "      <td>NaN</td>\n",
       "      <td>36.0</td>\n",
       "      <td>41.0</td>\n",
       "      <td>18.0</td>\n",
       "      <td>0.0</td>\n",
       "      <td>...</td>\n",
       "      <td>66.647959</td>\n",
       "      <td>43.613607</td>\n",
       "      <td>NaN</td>\n",
       "      <td>4</td>\n",
       "      <td>0</td>\n",
       "      <td>0</td>\n",
       "      <td>1</td>\n",
       "      <td>109</td>\n",
       "      <td>0</td>\n",
       "      <td>0.0</td>\n",
       "    </tr>\n",
       "    <tr>\n",
       "      <th>103117</th>\n",
       "      <td>1</td>\n",
       "      <td>2014-10-31</td>\n",
       "      <td>53.0</td>\n",
       "      <td>40.0</td>\n",
       "      <td>46.5</td>\n",
       "      <td>NaN</td>\n",
       "      <td>36.0</td>\n",
       "      <td>41.0</td>\n",
       "      <td>18.0</td>\n",
       "      <td>0.0</td>\n",
       "      <td>...</td>\n",
       "      <td>66.647959</td>\n",
       "      <td>43.613607</td>\n",
       "      <td>NaN</td>\n",
       "      <td>4</td>\n",
       "      <td>0</td>\n",
       "      <td>0</td>\n",
       "      <td>1</td>\n",
       "      <td>110</td>\n",
       "      <td>0</td>\n",
       "      <td>0.0</td>\n",
       "    </tr>\n",
       "    <tr>\n",
       "      <th>103118</th>\n",
       "      <td>1</td>\n",
       "      <td>2014-10-31</td>\n",
       "      <td>53.0</td>\n",
       "      <td>40.0</td>\n",
       "      <td>46.5</td>\n",
       "      <td>NaN</td>\n",
       "      <td>36.0</td>\n",
       "      <td>41.0</td>\n",
       "      <td>18.0</td>\n",
       "      <td>0.0</td>\n",
       "      <td>...</td>\n",
       "      <td>66.647959</td>\n",
       "      <td>43.613607</td>\n",
       "      <td>NaN</td>\n",
       "      <td>4</td>\n",
       "      <td>0</td>\n",
       "      <td>0</td>\n",
       "      <td>1</td>\n",
       "      <td>111</td>\n",
       "      <td>0</td>\n",
       "      <td>0.0</td>\n",
       "    </tr>\n",
       "  </tbody>\n",
       "</table>\n",
       "<p>5 rows × 33 columns</p>\n",
       "</div>"
      ],
      "text/plain": [
       "        station_nbr       date  tmax  tmin  tavg  depart  dewpoint  wetbulb  \\\n",
       "103114            1 2014-10-31  53.0  40.0  46.5     NaN      36.0     41.0   \n",
       "103115            1 2014-10-31  53.0  40.0  46.5     NaN      36.0     41.0   \n",
       "103116            1 2014-10-31  53.0  40.0  46.5     NaN      36.0     41.0   \n",
       "103117            1 2014-10-31  53.0  40.0  46.5     NaN      36.0     41.0   \n",
       "103118            1 2014-10-31  53.0  40.0  46.5     NaN      36.0     41.0   \n",
       "\n",
       "        heat  cool     ...       relative_humility  windchill daytime  week7  \\\n",
       "103114  18.0   0.0     ...               66.647959  43.613607     NaN      4   \n",
       "103115  18.0   0.0     ...               66.647959  43.613607     NaN      4   \n",
       "103116  18.0   0.0     ...               66.647959  43.613607     NaN      4   \n",
       "103117  18.0   0.0     ...               66.647959  43.613607     NaN      4   \n",
       "103118  18.0   0.0     ...               66.647959  43.613607     NaN      4   \n",
       "\n",
       "        weekend  code_change  store_nbr  item_nbr  units  log1p_units  \n",
       "103114        0            0          1       107      0          0.0  \n",
       "103115        0            0          1       108      0          0.0  \n",
       "103116        0            0          1       109      0          0.0  \n",
       "103117        0            0          1       110      0          0.0  \n",
       "103118        0            0          1       111      0          0.0  \n",
       "\n",
       "[5 rows x 33 columns]"
      ]
     },
     "execution_count": 10,
     "metadata": {},
     "output_type": "execute_result"
    }
   ],
   "source": [
    "station.tail()"
   ]
  },
  {
   "cell_type": "code",
   "execution_count": 11,
   "metadata": {},
   "outputs": [],
   "source": [
    "station = station[station[\"units\"] > 0].reset_index(drop=True)"
   ]
  },
  {
   "cell_type": "code",
   "execution_count": 12,
   "metadata": {},
   "outputs": [
    {
     "data": {
      "text/plain": [
       "Index(['station_nbr', 'date', 'tmax', 'tmin', 'tavg', 'depart', 'dewpoint',\n",
       "       'wetbulb', 'heat', 'cool', 'sunrise', 'sunset', 'codesum', 'snowfall',\n",
       "       'preciptotal', 'stnpressure', 'sealevel', 'resultspeed', 'resultdir',\n",
       "       'avgspeed', 'year', 'month', 'day', 'relative_humility', 'windchill',\n",
       "       'daytime', 'week7', 'weekend', 'code_change', 'store_nbr', 'item_nbr',\n",
       "       'units', 'log1p_units'],\n",
       "      dtype='object')"
      ]
     },
     "execution_count": 12,
     "metadata": {},
     "output_type": "execute_result"
    }
   ],
   "source": [
    "station.columns"
   ]
  },
  {
   "cell_type": "code",
   "execution_count": 20,
   "metadata": {},
   "outputs": [],
   "source": [
    "model = sm.OLS.from_formula('np.log1p(units) ~ scale(I(tmax**2)) + scale(I(tmin**2)) + scale(I(tavg**2)) + scale(dewpoint) + scale(wetbulb) + scale(heat) + scale(cool) \\\n",
    "                            + scale(preciptotal) + scale(stnpressure) + scale(sealevel) + scale(resultspeed) \\\n",
    "                            + scale(avgspeed) + scale(relative_humility) + scale(windchill) + C(item_nbr) + C(store_nbr) + C(code_change) + C(weekend) + 0', data=station)\n",
    "result = model.fit()"
   ]
  },
  {
   "cell_type": "code",
   "execution_count": 21,
   "metadata": {
    "scrolled": true
   },
   "outputs": [
    {
     "name": "stdout",
     "output_type": "stream",
     "text": [
      "                            OLS Regression Results                            \n",
      "==============================================================================\n",
      "Dep. Variable:        np.log1p(units)   R-squared:                       0.622\n",
      "Model:                            OLS   Adj. R-squared:                  0.619\n",
      "Method:                 Least Squares   F-statistic:                     195.6\n",
      "Date:                Mon, 02 Jul 2018   Prob (F-statistic):               0.00\n",
      "Time:                        16:08:53   Log-Likelihood:                -2649.1\n",
      "No. Observations:                2877   AIC:                             5348.\n",
      "Df Residuals:                    2852   BIC:                             5497.\n",
      "Df Model:                          24                                         \n",
      "Covariance Type:            nonrobust                                         \n",
      "============================================================================================\n",
      "                               coef    std err          t      P>|t|      [0.025      0.975]\n",
      "--------------------------------------------------------------------------------------------\n",
      "C(item_nbr)[9]               3.0815      0.026    119.598      0.000       3.031       3.132\n",
      "C(item_nbr)[28]              1.6394      0.026     63.270      0.000       1.589       1.690\n",
      "C(item_nbr)[40]              0.8999      0.060     14.893      0.000       0.781       1.018\n",
      "C(item_nbr)[47]              1.9449      0.039     49.908      0.000       1.869       2.021\n",
      "C(item_nbr)[51]              1.3615      0.049     27.763      0.000       1.265       1.458\n",
      "C(item_nbr)[89]              0.9046      0.073     12.428      0.000       0.762       1.047\n",
      "C(item_nbr)[93]              1.5596      0.048     32.759      0.000       1.466       1.653\n",
      "C(item_nbr)[99]              1.0543      0.048     22.178      0.000       0.961       1.148\n",
      "C(code_change)[T.1]         -0.0167      0.034     -0.492      0.622      -0.083       0.050\n",
      "C(code_change)[T.2]          0.0261      0.034      0.765      0.445      -0.041       0.093\n",
      "C(weekend)[T.1]              0.3049      0.025     12.053      0.000       0.255       0.354\n",
      "scale(I(tmax ** 2))         -1.2168      0.581     -2.095      0.036      -2.355      -0.078\n",
      "scale(I(tmin ** 2))         -0.8834      0.503     -1.755      0.079      -1.870       0.104\n",
      "scale(I(tavg ** 2))          1.9976      1.087      1.838      0.066      -0.133       4.128\n",
      "scale(dewpoint)              0.2874      0.239      1.204      0.229      -0.181       0.755\n",
      "scale(wetbulb)               0.5365      0.180      2.984      0.003       0.184       0.889\n",
      "scale(heat)                  0.2574      0.124      2.080      0.038       0.015       0.500\n",
      "scale(cool)                 -0.0213      0.030     -0.719      0.472      -0.080       0.037\n",
      "scale(preciptotal)          -0.0072      0.015     -0.493      0.622      -0.036       0.021\n",
      "scale(stnpressure)           0.0997      0.093      1.068      0.286      -0.083       0.283\n",
      "scale(sealevel)             -0.0783      0.092     -0.847      0.397      -0.260       0.103\n",
      "scale(resultspeed)           0.0008      0.044      0.018      0.986      -0.086       0.088\n",
      "scale(avgspeed)             -0.0551      0.051     -1.085      0.278      -0.155       0.044\n",
      "scale(relative_humility)    -0.1733      0.073     -2.359      0.018      -0.317      -0.029\n",
      "scale(windchill)            -0.4615      0.203     -2.274      0.023      -0.860      -0.063\n",
      "==============================================================================\n",
      "Omnibus:                       46.259   Durbin-Watson:                   1.899\n",
      "Prob(Omnibus):                  0.000   Jarque-Bera (JB):               75.064\n",
      "Skew:                          -0.137   Prob(JB):                     5.01e-17\n",
      "Kurtosis:                       3.743   Cond. No.                         320.\n",
      "==============================================================================\n",
      "\n",
      "Warnings:\n",
      "[1] Standard Errors assume that the covariance matrix of the errors is correctly specified.\n"
     ]
    }
   ],
   "source": [
    "print(result.summary())"
   ]
  },
  {
   "cell_type": "code",
   "execution_count": 28,
   "metadata": {},
   "outputs": [],
   "source": [
    "station['tmax_log1p'] = np.log1p(station.tmax)"
   ]
  },
  {
   "cell_type": "code",
   "execution_count": 37,
   "metadata": {},
   "outputs": [],
   "source": [
    "station['log1p_tmax^2'] = np.log1p(station['tmax^2'])"
   ]
  },
  {
   "cell_type": "code",
   "execution_count": 30,
   "metadata": {},
   "outputs": [],
   "source": [
    "station['tmin^2'] = station.tmin ** 2"
   ]
  },
  {
   "cell_type": "code",
   "execution_count": 32,
   "metadata": {},
   "outputs": [
    {
     "data": {
      "image/png": "[encoded data removed]",
      "text/plain": [
       "<matplotlib.figure.Figure at 0x22b05c588d0>"
      ]
     },
     "metadata": {},
     "output_type": "display_data"
    }
   ],
   "source": [
    "station.plot.scatter('tmin','units')\n",
    "plt.show()"
   ]
  },
  {
   "cell_type": "code",
   "execution_count": 33,
   "metadata": {},
   "outputs": [
    {
     "data": {
      "image/png": "[encoded data removed]",
      "text/plain": [
       "<matplotlib.figure.Figure at 0x22b05d28d68>"
      ]
     },
     "metadata": {},
     "output_type": "display_data"
    }
   ],
   "source": [
    "station.plot.scatter('tmin^2','units')\n",
    "plt.show()"
   ]
  },
  {
   "cell_type": "code",
   "execution_count": 35,
   "metadata": {},
   "outputs": [
    {
     "data": {
      "image/png": "[encoded data removed]",
      "text/plain": [
       "<matplotlib.figure.Figure at 0x22b05da1cf8>"
      ]
     },
     "metadata": {},
     "output_type": "display_data"
    }
   ],
   "source": [
    "station.plot.scatter('tmax','units')\n",
    "plt.show()"
   ]
  },
  {
   "cell_type": "code",
   "execution_count": 36,
   "metadata": {},
   "outputs": [
    {
     "data": {
      "image/png": "[encoded data removed]",
      "text/plain": [
       "<matplotlib.figure.Figure at 0x22b05322828>"
      ]
     },
     "metadata": {},
     "output_type": "display_data"
    }
   ],
   "source": [
    "station.plot.scatter('tmax^2','units')\n",
    "plt.show()"
   ]
  },
  {
   "cell_type": "code",
   "execution_count": 38,
   "metadata": {
    "scrolled": true
   },
   "outputs": [
    {
     "data": {
      "image/png": "[encoded data removed]",
      "text/plain": [
       "<matplotlib.figure.Figure at 0x22b036e0908>"
      ]
     },
     "metadata": {},
     "output_type": "display_data"
    }
   ],
   "source": [
    "station.plot.scatter('tmax_log1p','units')\n",
    "plt.show()"
   ]
  },
  {
   "cell_type": "code",
   "execution_count": 39,
   "metadata": {},
   "outputs": [
    {
     "data": {
      "image/png": "[encoded data removed]",
      "text/plain": [
       "<matplotlib.figure.Figure at 0x22b001a87b8>"
      ]
     },
     "metadata": {},
     "output_type": "display_data"
    }
   ],
   "source": [
    "station.plot.scatter('log1p_tmax^2','units')\n",
    "plt.show()"
   ]
  },
  {
   "cell_type": "code",
   "execution_count": 27,
   "metadata": {},
   "outputs": [
    {
     "data": {
      "text/plain": [
       "0       3.970292\n",
       "1       3.970292\n",
       "2       3.970292\n",
       "3       3.931826\n",
       "4       3.931826\n",
       "5       3.931826\n",
       "6       3.496508\n",
       "7       3.496508\n",
       "8       3.367296\n",
       "9       3.367296\n",
       "10      3.663562\n",
       "11      3.663562\n",
       "12      3.850148\n",
       "13      3.850148\n",
       "14      4.060443\n",
       "15      4.060443\n",
       "16      3.828641\n",
       "17      3.828641\n",
       "18      3.828641\n",
       "19      3.688879\n",
       "20      3.688879\n",
       "21      3.688879\n",
       "22      3.871201\n",
       "23      3.688879\n",
       "24      3.688879\n",
       "25      3.688879\n",
       "26      3.688879\n",
       "27      3.713572\n",
       "28      3.713572\n",
       "29      3.713572\n",
       "          ...   \n",
       "2847    4.276666\n",
       "2848    4.276666\n",
       "2849    4.262680\n",
       "2850    4.262680\n",
       "2851    4.262680\n",
       "2852    4.025352\n",
       "2853    4.025352\n",
       "2854    4.025352\n",
       "2855    4.025352\n",
       "2856    4.127134\n",
       "2857    4.127134\n",
       "2858    4.127134\n",
       "2859    4.189655\n",
       "2860    4.189655\n",
       "2861    4.189655\n",
       "2862    4.189655\n",
       "2863    4.204693\n",
       "2864    4.204693\n",
       "2865    4.204693\n",
       "2866    4.204693\n",
       "2867    4.204693\n",
       "2868    4.204693\n",
       "2869    4.060443\n",
       "2870    4.060443\n",
       "2871    4.060443\n",
       "2872    4.060443\n",
       "2873    3.988984\n",
       "2874    3.988984\n",
       "2875    3.988984\n",
       "2876    3.988984\n",
       "Name: tmax, Length: 2877, dtype: float64"
      ]
     },
     "execution_count": 27,
     "metadata": {},
     "output_type": "execute_result"
    }
   ],
   "source": [
    "np.log1p(station.tmax)"
   ]
  },
  {
   "cell_type": "code",
   "execution_count": null,
   "metadata": {},
   "outputs": [],
   "source": []
  }
 ],
 "metadata": {
  "kernelspec": {
   "display_name": "Python 3",
   "language": "python",
   "name": "python3"
  },
  "language_info": {
   "codemirror_mode": {
    "name": "ipython",
    "version": 3
   },
   "file_extension": ".py",
   "mimetype": "text/x-python",
   "name": "python",
   "nbconvert_exporter": "python",
   "pygments_lexer": "ipython3",
   "version": "3.6.4"
  }
 },
 "nbformat": 4,
 "nbformat_minor": 2
}
