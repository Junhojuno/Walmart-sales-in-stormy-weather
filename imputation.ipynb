{
 "cells": [
  {
   "cell_type": "code",
   "execution_count": null,
   "metadata": {},
   "outputs": [],
   "source": [
    "weather = pd.read_csv(\"./data/weather.csv\")\n",
    "\n",
    "# date : datetime으로 형변환\n",
    "weather['date'] = pd.to_datetime(weather['date'])\n",
    "\n",
    "# codesum의 \" \" 은 moderate이므로 'MD'를 넣어준다\n",
    "weather['codesum'].replace(\" \",'MD',inplace=True)\n",
    "\n",
    "# imputation\n",
    "for i in weather.columns:\n",
    "    weather[i] = weather[i].replace('-', np.nan)\n",
    "    weather[i] = weather[i].replace(' ', np.nan)\n",
    "    weather[i] = weather[i].replace('M', np.nan)\n",
    "\n",
    "weather['snowfall'] = weather['snowfall'].replace('T', 0.05)\n",
    "weather['snowfall'] = weather['snowfall'].replace('  T', 0.05)\n",
    "weather['preciptotal'] = weather['preciptotal'].replace('  T', 0.005)\n",
    "\n",
    "# column 전체 형변환\n",
    "weather[\"tmax\"] = weather[\"tmax\"].astype(\"float\")\n",
    "weather[\"tmin\"] = weather[\"tmin\"].astype(\"float\")\n",
    "weather[\"tavg\"] = weather[\"tavg\"].astype(\"float\")\n",
    "weather[\"depart\"] = weather[\"depart\"].astype(\"float\")\n",
    "weather[\"dewpoint\"] = weather[\"dewpoint\"].astype(\"float\")\n",
    "weather[\"wetbulb\"] = weather[\"wetbulb\"].astype(\"float\")\n",
    "weather[\"heat\"] = weather[\"heat\"].astype(\"float\")\n",
    "weather[\"cool\"] = weather[\"cool\"].astype(\"float\")\n",
    "weather[\"stnpressure\"] = weather[\"stnpressure\"].astype(\"float\")\n",
    "weather[\"sealevel\"] = weather[\"sealevel\"].astype(\"float\")\n",
    "weather[\"resultspeed\"] = weather[\"resultspeed\"].astype(\"float\")\n",
    "weather[\"resultdir\"] = weather[\"resultdir\"].astype(\"float\")\n",
    "weather[\"avgspeed\"] = weather[\"avgspeed\"].astype(\"float\")"
   ]
  },
  {
   "cell_type": "code",
   "execution_count": null,
   "metadata": {},
   "outputs": [],
   "source": [
    "# year, month, day 컬럼 추가\n",
    "year = [pd.to_datetime(weather[\"date\"].values[i], format=\"%y%m%d\", errors='ignore').year for i in range(len(weather))]\n",
    "weather['year'] = year\n",
    "\n",
    "month = [pd.to_datetime(weather[\"date\"].values[i], format=\"%y%m%d\", errors='ignore').month for i in range(len(weather))]\n",
    "weather['month'] = month\n",
    "\n",
    "day = [pd.to_datetime(weather[\"date\"].values[i], format=\"%y%m%d\", errors='ignore').day for i in range(len(weather))]\n",
    "weather['day'] = day"
   ]
  },
  {
   "cell_type": "code",
   "execution_count": 289,
   "metadata": {},
   "outputs": [
    {
     "name": "stdout",
     "output_type": "stream",
     "text": [
      "20517\n",
      "entire null count by columns\n",
      "station_nbr : 0 ( 0.0 % )\n",
      "date : 0 ( 0.0 % )\n",
      "tmax : 906 ( 4.42 % )\n",
      "tmin : 908 ( 4.43 % )\n",
      "tavg : 912 ( 4.45 % )\n",
      "depart : 11511 ( 56.1 % )\n",
      "dewpoint : 666 ( 3.25 % )\n",
      "wetbulb : 1252 ( 6.1 % )\n",
      "heat : 1469 ( 7.16 % )\n",
      "cool : 1469 ( 7.16 % )\n",
      "sunrise : 9656 ( 47.06 % )\n",
      "sunset : 9656 ( 47.06 % )\n",
      "codesum : 0 ( 0.0 % )\n",
      "snowfall : 7224 ( 35.21 % )\n",
      "preciptotal : 860 ( 4.19 % )\n",
      "stnpressure : 929 ( 4.53 % )\n",
      "sealevel : 1724 ( 8.4 % )\n",
      "resultspeed : 589 ( 2.87 % )\n",
      "resultdir : 589 ( 2.87 % )\n",
      "avgspeed : 875 ( 4.26 % )\n"
     ]
    },
    {
     "data": {
      "image/png": "[encoded data removed]",
      "text/plain": [
       "<matplotlib.figure.Figure at 0x2238b06ef60>"
      ]
     },
     "metadata": {},
     "output_type": "display_data"
    }
   ],
   "source": [
    "print(len(weather))\n",
    "print(\"entire null count by columns\")\n",
    "dic = {}\n",
    "for i in weather.columns:\n",
    "    count_null = weather[i].isna().sum()\n",
    "    print(i, \":\", count_null, \"(\",round((count_null / len(weather) * 100),2),\"%\",\")\")\n",
    "    \n",
    "    dic[i] = count_null\n",
    "\n",
    "plt.figure(figsize=(19,5))    \n",
    "sns.barplot(x=list(dic.keys()), y=list(dic.values()))\n",
    "plt.show()"
   ]
  },
  {
   "cell_type": "code",
   "execution_count": null,
   "metadata": {},
   "outputs": [],
   "source": [
    "import datetime as dt\n",
    "# 상대습도 계산\n",
    "wthr[\"relative_humility\"] = 100*(np.exp((17.625*((wthr['dewpoint']-32)/1.8))/(243.04+((wthr['dewpoint']-32)/1.8)))/np.exp((17.625*((wthr['tavg']-32)/1.8))/(243.04+((wthr['tavg']-32)/1.8))))\n",
    "\n",
    "# 체감온도 계산\n",
    "wthr[\"windchill\"] = 35.74 + 0.6215*wthr[\"tavg\"] - 35.75*(wthr[\"avgspeed\"]**0.16) + 0.4275*wthr[\"tavg\"]*(wthr[\"avgspeed\"]**0.16)\n",
    "\n",
    "# sunset, sunrise로 낮시간 계산\n",
    "wthr['daytime'] = (((wthr['sunset'] // 100 * 60) + (wthr['sunset'] % 100))- ((wthr['sunrise'] // 100 * 60) + (wthr['sunrise'] % 100))) / 60\n",
    "\n",
    "# 날짜데이터 datetime 변환\n",
    "wthr[\"date\"] = pd.to_datetime(wthr[\"date\"])\n",
    "\n",
    "# 요일 columns 추가(monday = 0, sunday = 6), 주말 columns 추가\n",
    "# 평일 : 0, 토요일, 일요일 : 1\n",
    "wthr[\"week7\"] = wthr[\"date\"].dt.dayofweek\n",
    "wthr['weekend'] = 0\n",
    "wthr.loc[wthr['week7'] == 5, 'weekend'] = 1\n",
    "wthr.loc[wthr['week7'] == 6, 'weekend'] = 1"
   ]
  },
  {
   "cell_type": "code",
   "execution_count": 2,
   "metadata": {},
   "outputs": [],
   "source": [
    "rain_text = ['FC', 'TS', 'GR', 'RA', 'DZ', 'SN', 'SG', 'GS', 'PL', 'IC', 'FG', 'BR', 'UP', 'FG+']\n",
    "other_text = ['HZ', 'FU', 'VA', 'DU', 'DS', 'PO', 'SA', 'SS', 'PY', 'SQ', 'DR', 'SH', 'FZ', 'MI', 'PR', 'BC', 'BL', 'VC' ]"
   ]
  },
  {
   "cell_type": "code",
   "execution_count": 16,
   "metadata": {},
   "outputs": [],
   "source": [
    "wthr['rainY'] = 0\n",
    "idx_ls = []\n",
    "for txt in rain_text:\n",
    "    for idx in wthr.index.values:\n",
    "        if txt in wthr.loc[idx, \"codesum\"]:\n",
    "            idx_ls.append(idx)"
   ]
  },
  {
   "cell_type": "code",
   "execution_count": 17,
   "metadata": {},
   "outputs": [],
   "source": [
    "wthr.loc[idx_ls, \"rainY\"] = 1"
   ]
  },
  {
   "cell_type": "code",
   "execution_count": 20,
   "metadata": {},
   "outputs": [],
   "source": [
    "wthr['otherY'] = 0\n",
    "idx_ls = []\n",
    "for txt in other_text:\n",
    "    for idx in wthr.index.values:\n",
    "        if txt in wthr.loc[idx, \"codesum\"]:\n",
    "            idx_ls.append(idx)"
   ]
  },
  {
   "cell_type": "code",
   "execution_count": 21,
   "metadata": {},
   "outputs": [],
   "source": [
    "wthr.loc[idx_ls, \"otherY\"] = 1"
   ]
  },
  {
   "cell_type": "code",
   "execution_count": 22,
   "metadata": {},
   "outputs": [],
   "source": [
    "wthr['nothing'] = 0\n",
    "idx_ls = []\n",
    "\n",
    "for idx in wthr.index.values:\n",
    "    if \"MD\" in wthr.loc[idx, \"codesum\"]:\n",
    "        idx_ls.append(idx)"
   ]
  },
  {
   "cell_type": "code",
   "execution_count": 23,
   "metadata": {},
   "outputs": [],
   "source": [
    "wthr.loc[idx_ls, \"nothing\"] = 1"
   ]
  },
  {
   "cell_type": "code",
   "execution_count": null,
   "metadata": {},
   "outputs": [],
   "source": []
  }
 ],
 "metadata": {
  "kernelspec": {
   "display_name": "Python 3",
   "language": "python",
   "name": "python3"
  },
  "language_info": {
   "codemirror_mode": {
    "name": "ipython",
    "version": 3
   },
   "file_extension": ".py",
   "mimetype": "text/x-python",
   "name": "python",
   "nbconvert_exporter": "python",
   "pygments_lexer": "ipython3",
   "version": "3.6.4"
  }
 },
 "nbformat": 4,
 "nbformat_minor": 2
}
